{
 "cells": [
  {
   "cell_type": "markdown",
   "metadata": {},
   "source": [
    "# HEALTH X - Deep Learning Models"
   ]
  },
  {
   "cell_type": "markdown",
   "metadata": {},
   "source": [
    "## Contents Of Notebook"
   ]
  },
  {
   "cell_type": "markdown",
   "metadata": {},
   "source": [
    "1. import statements\n",
    "2. pulling raw data from data sources\n",
    "3. defining functions for preprocessing \n",
    "4. CNN and CNN + LSTM model for elbow\n",
    "5. CNN and CNN + LSTM model for hand\n",
    "6. CNN and CNN + LSTM model for humerus\n",
    "7. CNN and CNN + LSTM model for forearm\n",
    "8. CNN and CNN + LSTM model for wrist"
   ]
  },
  {
   "cell_type": "markdown",
   "metadata": {},
   "source": [
    "### 1. import statements"
   ]
  },
  {
   "cell_type": "code",
   "execution_count": 18,
   "metadata": {},
   "outputs": [],
   "source": [
    "import pandas as pd\n",
    "import numpy as np\n",
    "import cv2\n",
    "from keras.models import Sequential\n",
    "from keras.layers import Dense, TimeDistributed, LSTM, MaxPooling2D, Conv2D, Flatten, Activation,ConvLSTM2D\n",
    "path  = 'C:/Users/prave/Documents/Python Work/Big Data AI/Team Project/MURA-v1.1/'\n",
    "set_random_seed(12567)\n",
    "seed(109274)"
   ]
  },
  {
   "cell_type": "markdown",
   "metadata": {},
   "source": [
    "### 2. pulling raw data from data sources"
   ]
  },
  {
   "cell_type": "code",
   "execution_count": 5,
   "metadata": {},
   "outputs": [],
   "source": [
    "train_paths = pd.read_csv(path+'train_image_paths.csv') # reading training image directories from csv file\n",
    "train_paths.columns = ['image_paths'] # renaming the column"
   ]
  },
  {
   "cell_type": "code",
   "execution_count": 6,
   "metadata": {},
   "outputs": [
    {
     "data": {
      "text/html": [
       "<div>\n",
       "<style scoped>\n",
       "    .dataframe tbody tr th:only-of-type {\n",
       "        vertical-align: middle;\n",
       "    }\n",
       "\n",
       "    .dataframe tbody tr th {\n",
       "        vertical-align: top;\n",
       "    }\n",
       "\n",
       "    .dataframe thead th {\n",
       "        text-align: right;\n",
       "    }\n",
       "</style>\n",
       "<table border=\"1\" class=\"dataframe\">\n",
       "  <thead>\n",
       "    <tr style=\"text-align: right;\">\n",
       "      <th></th>\n",
       "      <th>image_paths</th>\n",
       "    </tr>\n",
       "  </thead>\n",
       "  <tbody>\n",
       "    <tr>\n",
       "      <th>0</th>\n",
       "      <td>MURA-v1.1/train/XR_SHOULDER/patient00001/study...</td>\n",
       "    </tr>\n",
       "    <tr>\n",
       "      <th>1</th>\n",
       "      <td>MURA-v1.1/train/XR_SHOULDER/patient00001/study...</td>\n",
       "    </tr>\n",
       "    <tr>\n",
       "      <th>2</th>\n",
       "      <td>MURA-v1.1/train/XR_SHOULDER/patient00001/study...</td>\n",
       "    </tr>\n",
       "    <tr>\n",
       "      <th>3</th>\n",
       "      <td>MURA-v1.1/train/XR_SHOULDER/patient00002/study...</td>\n",
       "    </tr>\n",
       "    <tr>\n",
       "      <th>4</th>\n",
       "      <td>MURA-v1.1/train/XR_SHOULDER/patient00002/study...</td>\n",
       "    </tr>\n",
       "  </tbody>\n",
       "</table>\n",
       "</div>"
      ],
      "text/plain": [
       "                                         image_paths\n",
       "0  MURA-v1.1/train/XR_SHOULDER/patient00001/study...\n",
       "1  MURA-v1.1/train/XR_SHOULDER/patient00001/study...\n",
       "2  MURA-v1.1/train/XR_SHOULDER/patient00001/study...\n",
       "3  MURA-v1.1/train/XR_SHOULDER/patient00002/study...\n",
       "4  MURA-v1.1/train/XR_SHOULDER/patient00002/study..."
      ]
     },
     "execution_count": 6,
     "metadata": {},
     "output_type": "execute_result"
    }
   ],
   "source": [
    "train_paths.head()"
   ]
  },
  {
   "cell_type": "code",
   "execution_count": 8,
   "metadata": {},
   "outputs": [],
   "source": [
    "valid_paths = pd.read_csv(path+'valid_image_paths.csv') # reading validation image directories from csv file \n",
    "valid_paths.columns = ['image_paths'] # renaming the column"
   ]
  },
  {
   "cell_type": "code",
   "execution_count": 9,
   "metadata": {},
   "outputs": [
    {
     "data": {
      "text/html": [
       "<div>\n",
       "<style scoped>\n",
       "    .dataframe tbody tr th:only-of-type {\n",
       "        vertical-align: middle;\n",
       "    }\n",
       "\n",
       "    .dataframe tbody tr th {\n",
       "        vertical-align: top;\n",
       "    }\n",
       "\n",
       "    .dataframe thead th {\n",
       "        text-align: right;\n",
       "    }\n",
       "</style>\n",
       "<table border=\"1\" class=\"dataframe\">\n",
       "  <thead>\n",
       "    <tr style=\"text-align: right;\">\n",
       "      <th></th>\n",
       "      <th>image_paths</th>\n",
       "    </tr>\n",
       "  </thead>\n",
       "  <tbody>\n",
       "    <tr>\n",
       "      <th>0</th>\n",
       "      <td>MURA-v1.1/valid/XR_WRIST/patient11185/study1_p...</td>\n",
       "    </tr>\n",
       "    <tr>\n",
       "      <th>1</th>\n",
       "      <td>MURA-v1.1/valid/XR_WRIST/patient11185/study1_p...</td>\n",
       "    </tr>\n",
       "    <tr>\n",
       "      <th>2</th>\n",
       "      <td>MURA-v1.1/valid/XR_WRIST/patient11185/study1_p...</td>\n",
       "    </tr>\n",
       "    <tr>\n",
       "      <th>3</th>\n",
       "      <td>MURA-v1.1/valid/XR_WRIST/patient11186/study1_p...</td>\n",
       "    </tr>\n",
       "    <tr>\n",
       "      <th>4</th>\n",
       "      <td>MURA-v1.1/valid/XR_WRIST/patient11186/study1_p...</td>\n",
       "    </tr>\n",
       "  </tbody>\n",
       "</table>\n",
       "</div>"
      ],
      "text/plain": [
       "                                         image_paths\n",
       "0  MURA-v1.1/valid/XR_WRIST/patient11185/study1_p...\n",
       "1  MURA-v1.1/valid/XR_WRIST/patient11185/study1_p...\n",
       "2  MURA-v1.1/valid/XR_WRIST/patient11185/study1_p...\n",
       "3  MURA-v1.1/valid/XR_WRIST/patient11186/study1_p...\n",
       "4  MURA-v1.1/valid/XR_WRIST/patient11186/study1_p..."
      ]
     },
     "execution_count": 9,
     "metadata": {},
     "output_type": "execute_result"
    }
   ],
   "source": [
    "valid_paths.head()"
   ]
  },
  {
   "cell_type": "markdown",
   "metadata": {},
   "source": [
    "### 3. defining functions for data preprocessing"
   ]
  },
  {
   "cell_type": "code",
   "execution_count": 10,
   "metadata": {},
   "outputs": [],
   "source": [
    "def prep_dataframe(body_part,t_v): # preparing dataframe for CNN + LSTM\n",
    "    paths = t_v # pandas DataFrame containing all images\n",
    "    paths.columns = ['image_paths'] # renaming column\n",
    "    patient_list = []\n",
    "    file_list = []\n",
    "    for i in paths.image_paths: # looping over each file\n",
    "        if (body_part in i): # get desired body part\n",
    "            patient_num = i.split('/')[3] # get patient number\n",
    "            study_num = i.split('/')[4] # get study number\n",
    "            patient_study = patient_num + '/' + study_num # combining them as patient_number/study_number \n",
    "            patient_list.append(patient_study) # appending patient_number/study_number to list\n",
    "            file_list.append(i) # append file directory to list\n",
    "    dict_dataset = {'patient':patient_list,'file_name':file_list} # combining the two lists into dictionary\n",
    "    df_dataset = pd.DataFrame(dict_dataset) # converting to dataframe\n",
    "    grouped = df_dataset.groupby('patient') # grouping by patient_number/study_number\n",
    "    final_series = grouped['file_name'].unique() # taking unique values\n",
    "    final_dataframe = pd.DataFrame({'patient':final_series.index, 'filename_array':final_series.values})\n",
    "    # getting dataframe with rows in the format: patient_number/study_number  [file1,file2,file3,...]\n",
    "    final_dataframe['filename_string'] = final_dataframe.filename_array.apply(','.join)\n",
    "    # converting file names into string which is comma separated \n",
    "    file_splits = final_dataframe['filename_string'].str.split(',', expand=True)\n",
    "    # splitting on comma creates new column for each file name\n",
    "    patient_files = pd.concat([final_dataframe,file_splits],axis=1)\n",
    "    # concatenate splits with original dataframe\n",
    "    patient_files.drop(columns=['filename_array', 'filename_string'],inplace=True)\n",
    "    # removing unnecessary columns\n",
    "    return(patient_files)"
   ]
  },
  {
   "cell_type": "code",
   "execution_count": 11,
   "metadata": {},
   "outputs": [],
   "source": [
    "def img_cnn(df, part, img_size):\n",
    "    x = []\n",
    "    y = []\n",
    "    for i in df.image_paths: # looping over each image\n",
    "        if (part in i):\n",
    "            x.append((np.array(cv2.resize(cv2.imread(path+i),(img_size,img_size))))/255)\n",
    "            # reading image, resizing, normalizing and appending to list\n",
    "            if 'positive' in i:\n",
    "                y.append(1) # assigning labels\n",
    "            else:\n",
    "                y.append(0)\n",
    "    return(np.array(x),np.array(y))"
   ]
  },
  {
   "cell_type": "code",
   "execution_count": null,
   "metadata": {},
   "outputs": [],
   "source": [
    "def rnn_df(part):\n",
    "    train = prep_dataframe(part,train_paths) # preparing dataframe for CNN + LSTM\n",
    "    train.set_index('patient',inplace=True)\n",
    "    test = prep_dataframe(part,valid_paths)\n",
    "    test.set_index('patient',inplace=True)\n",
    "    if len(train.columns)>len(test.columns):\n",
    "        l = len(test.columns) \n",
    "        # comparing number of columns in training and test data, setting minimum number of columns equal to \n",
    "        # the number of columns for both train and test. This is for performance evaluation\n",
    "        for i in range((len(train.columns)-len(test.columns))):\n",
    "            test[l+i] = None\n",
    "    elif len(test.columns)>len(train.columns):\n",
    "        l = len(train.columns)\n",
    "        for i in range((len(test.columns))-(len(train.columns))):\n",
    "            train[l+i] = None   \n",
    "    return(train,test)"
   ]
  },
  {
   "cell_type": "code",
   "execution_count": 15,
   "metadata": {},
   "outputs": [],
   "source": [
    "def img_arr(df,img_size):\n",
    "    zero_pad = [[[0 for k in range(3)] for j in range(img_size)] for i in range(img_size)]\n",
    "    # creating 2D array of zeroes for missing or None images\n",
    "    h = []\n",
    "    for i in df.index:\n",
    "        c = []\n",
    "        for j in df.columns:\n",
    "            if df.loc[i,j]==None:\n",
    "                c.append(np.array(zero_pad))\n",
    "            else:\n",
    "                c.append((np.array(cv2.resize(cv2.imread(path+df.loc[i,j]),(img_size,img_size))))/255)\n",
    "                # reading image, resizing, normalizing and appending to list\n",
    "        h.append(np.array(c))\n",
    "        c.clear()\n",
    "        \n",
    "    y = []\n",
    "    for i in df.index:\n",
    "        if 'positive' in i: # setting labels\n",
    "            y.append(1)\n",
    "        else:\n",
    "            y.append(0)\n",
    "    return(np.array(h),np.array(y))\n",
    "    "
   ]
  },
  {
   "cell_type": "code",
   "execution_count": 16,
   "metadata": {},
   "outputs": [],
   "source": [
    "def img_rnn(part,img_size):\n",
    "    train,test = rnn_df(part) # calling rnn_df internally\n",
    "    x_train, y_train = img_arr(train,img_size) # calling img_arr internally\n",
    "    x_test, y_test = img_arr(test,img_size) # calling img_arr internally\n",
    "    return(x_train,y_train,x_test,y_test)    "
   ]
  },
  {
   "cell_type": "markdown",
   "metadata": {},
   "source": [
    "## 4. ELBOW"
   ]
  },
  {
   "cell_type": "markdown",
   "metadata": {},
   "source": [
    "### CNN"
   ]
  },
  {
   "cell_type": "code",
   "execution_count": 36,
   "metadata": {},
   "outputs": [],
   "source": [
    "x_train_elbow,y_train_elbow = img_cnn(train_paths,'ELBOW',64)\n",
    "x_test_elbow, y_test_elbow = img_cnn(valid_paths,'ELBOW',64)"
   ]
  },
  {
   "cell_type": "code",
   "execution_count": 37,
   "metadata": {
    "scrolled": true
   },
   "outputs": [
    {
     "name": "stdout",
     "output_type": "stream",
     "text": [
      "_________________________________________________________________\n",
      "Layer (type)                 Output Shape              Param #   \n",
      "=================================================================\n",
      "conv2d_11 (Conv2D)           (None, 62, 62, 64)        1792      \n",
      "_________________________________________________________________\n",
      "max_pooling2d_11 (MaxPooling (None, 31, 31, 64)        0         \n",
      "_________________________________________________________________\n",
      "conv2d_12 (Conv2D)           (None, 29, 29, 32)        18464     \n",
      "_________________________________________________________________\n",
      "max_pooling2d_12 (MaxPooling (None, 14, 14, 32)        0         \n",
      "_________________________________________________________________\n",
      "conv2d_13 (Conv2D)           (None, 12, 12, 16)        4624      \n",
      "_________________________________________________________________\n",
      "max_pooling2d_13 (MaxPooling (None, 6, 6, 16)          0         \n",
      "_________________________________________________________________\n",
      "flatten_5 (Flatten)          (None, 576)               0         \n",
      "_________________________________________________________________\n",
      "dense_7 (Dense)              (None, 1000)              577000    \n",
      "_________________________________________________________________\n",
      "activation_7 (Activation)    (None, 1000)              0         \n",
      "_________________________________________________________________\n",
      "dense_8 (Dense)              (None, 1)                 1001      \n",
      "_________________________________________________________________\n",
      "activation_8 (Activation)    (None, 1)                 0         \n",
      "=================================================================\n",
      "Total params: 602,881\n",
      "Trainable params: 602,881\n",
      "Non-trainable params: 0\n",
      "_________________________________________________________________\n"
     ]
    }
   ],
   "source": [
    "model_cnn_elbow = Sequential()\n",
    "model_cnn_elbow.add(Conv2D(64,(3,3), input_shape=[64,64,3]))\n",
    "model_cnn_elbow.add(MaxPooling2D(pool_size=(2,2)))\n",
    "\n",
    "model_cnn_elbow.add(Conv2D(32,(3,3)))\n",
    "model_cnn_elbow.add(MaxPooling2D(pool_size=(2,2)))\n",
    "\n",
    "model_cnn_elbow.add(Conv2D(16,(3,3)))\n",
    "model_cnn_elbow.add(MaxPooling2D(pool_size=(2,2)))\n",
    "\n",
    "model_cnn_elbow.add(Flatten())\n",
    "model_cnn_elbow.add(Dense(1000))\n",
    "model_cnn_elbow.add(Activation('relu'))\n",
    "model_cnn_elbow.add(Dense(1))\n",
    "model_cnn_elbow.add(Activation('sigmoid'))\n",
    "\n",
    "model_cnn_elbow.summary()"
   ]
  },
  {
   "cell_type": "code",
   "execution_count": 38,
   "metadata": {},
   "outputs": [],
   "source": [
    "model_cnn_elbow.compile(loss = 'binary_crossentropy', optimizer = 'adam', metrics = ['accuracy'])"
   ]
  },
  {
   "cell_type": "code",
   "execution_count": 39,
   "metadata": {},
   "outputs": [
    {
     "name": "stdout",
     "output_type": "stream",
     "text": [
      "Epoch 1/10\n",
      "4931/4931 [==============================] - 31s 6ms/step - loss: 0.6787 - acc: 0.5788\n",
      "Epoch 2/10\n",
      "4931/4931 [==============================] - 34s 7ms/step - loss: 0.6517 - acc: 0.6082\n",
      "Epoch 3/10\n",
      "4931/4931 [==============================] - 32s 6ms/step - loss: 0.6418 - acc: 0.6299\n",
      "Epoch 4/10\n",
      "4931/4931 [==============================] - 31s 6ms/step - loss: 0.6255 - acc: 0.6443\n",
      "Epoch 5/10\n",
      "4931/4931 [==============================] - 31s 6ms/step - loss: 0.6088 - acc: 0.6650\n",
      "Epoch 6/10\n",
      "4931/4931 [==============================] - 31s 6ms/step - loss: 0.5958 - acc: 0.6773\n",
      "Epoch 7/10\n",
      "4931/4931 [==============================] - 31s 6ms/step - loss: 0.5772 - acc: 0.6934\n",
      "Epoch 8/10\n",
      "4931/4931 [==============================] - 31s 6ms/step - loss: 0.5463 - acc: 0.7104\n",
      "Epoch 9/10\n",
      "4931/4931 [==============================] - 31s 6ms/step - loss: 0.5076 - acc: 0.7487\n",
      "Epoch 10/10\n",
      "4931/4931 [==============================] - 31s 6ms/step - loss: 0.4629 - acc: 0.7690\n"
     ]
    },
    {
     "data": {
      "text/plain": [
       "<keras.callbacks.History at 0x22914688710>"
      ]
     },
     "execution_count": 39,
     "metadata": {},
     "output_type": "execute_result"
    }
   ],
   "source": [
    "model_cnn_elbow.fit(x_train_elbow,y_train_elbow,batch_size = 100, epochs = 10)"
   ]
  },
  {
   "cell_type": "code",
   "execution_count": 40,
   "metadata": {},
   "outputs": [
    {
     "name": "stdout",
     "output_type": "stream",
     "text": [
      "465/465 [==============================] - 1s 3ms/step\n"
     ]
    },
    {
     "data": {
      "text/plain": [
       "[0.8057791352272033, 0.6107526888129532]"
      ]
     },
     "execution_count": 40,
     "metadata": {},
     "output_type": "execute_result"
    }
   ],
   "source": [
    "model_cnn_elbow.evaluate(x_test_elbow,y_test_elbow)"
   ]
  },
  {
   "cell_type": "markdown",
   "metadata": {},
   "source": [
    "### CNN + RNN (Time distributed)"
   ]
  },
  {
   "cell_type": "code",
   "execution_count": 41,
   "metadata": {},
   "outputs": [],
   "source": [
    "x_train_elbow, y_train_elbow, x_test_elbow, y_test_elbow = img_rnn('ELBOW',32)"
   ]
  },
  {
   "cell_type": "code",
   "execution_count": 42,
   "metadata": {},
   "outputs": [
    {
     "name": "stdout",
     "output_type": "stream",
     "text": [
      "_________________________________________________________________\n",
      "Layer (type)                 Output Shape              Param #   \n",
      "=================================================================\n",
      "time_distributed_11 (TimeDis (None, 8, 30, 30, 256)    7168      \n",
      "_________________________________________________________________\n",
      "time_distributed_12 (TimeDis (None, 8, 15, 15, 256)    0         \n",
      "_________________________________________________________________\n",
      "time_distributed_13 (TimeDis (None, 8, 13, 13, 256)    590080    \n",
      "_________________________________________________________________\n",
      "time_distributed_14 (TimeDis (None, 8, 11, 11, 128)    295040    \n",
      "_________________________________________________________________\n",
      "time_distributed_15 (TimeDis (None, 8, 9, 9, 56)       64568     \n",
      "_________________________________________________________________\n",
      "time_distributed_16 (TimeDis (None, 8, 4, 4, 56)       0         \n",
      "_________________________________________________________________\n",
      "time_distributed_17 (TimeDis (None, 8, 2, 2, 256)      129280    \n",
      "_________________________________________________________________\n",
      "time_distributed_18 (TimeDis (None, 8, 1, 1, 256)      0         \n",
      "_________________________________________________________________\n",
      "time_distributed_19 (TimeDis (None, 8, 256)            0         \n",
      "_________________________________________________________________\n",
      "lstm_3 (LSTM)                (None, 1000)              5028000   \n",
      "_________________________________________________________________\n",
      "dense_9 (Dense)              (None, 1)                 1001      \n",
      "_________________________________________________________________\n",
      "activation_9 (Activation)    (None, 1)                 0         \n",
      "=================================================================\n",
      "Total params: 6,115,137\n",
      "Trainable params: 6,115,137\n",
      "Non-trainable params: 0\n",
      "_________________________________________________________________\n"
     ]
    }
   ],
   "source": [
    "#CNN\n",
    "model_mix_elbow = Sequential()\n",
    "model_mix_elbow.add(TimeDistributed(Conv2D(256,(3,3),activation='relu'),input_shape=(x_train_elbow.shape[1],\n",
    "                                                                                        x_train_elbow.shape[2],\n",
    "                                                                                        x_train_elbow.shape[3],\n",
    "                                                                                        x_train_elbow.shape[4])))\n",
    "model_mix_elbow.add(TimeDistributed(MaxPooling2D(pool_size=(2,2))))\n",
    "\n",
    "model_mix_elbow.add(TimeDistributed(Conv2D(256,(3,3),activation='relu')))\n",
    "model_mix_elbow.add(TimeDistributed(Conv2D(128,(3,3),activation='relu')))\n",
    "model_mix_elbow.add(TimeDistributed(Conv2D(56,(3,3),activation='relu')))\n",
    "model_mix_elbow.add(TimeDistributed(MaxPooling2D(pool_size=(2,2))))\n",
    "\n",
    "model_mix_elbow.add(TimeDistributed(Conv2D(256,(3,3),activation='relu')))\n",
    "model_mix_elbow.add(TimeDistributed(MaxPooling2D(pool_size=(2,2))))\n",
    "\n",
    "model_mix_elbow.add(TimeDistributed(Flatten()))\n",
    "\n",
    "#RNN\n",
    "model_mix_elbow.add(LSTM(1000,return_sequences=False))\n",
    "\n",
    "model_mix_elbow.add(Dense(1))\n",
    "model_mix_elbow.add(Activation('sigmoid'))\n",
    "\n",
    "model_mix_elbow.summary()"
   ]
  },
  {
   "cell_type": "code",
   "execution_count": 43,
   "metadata": {},
   "outputs": [],
   "source": [
    "model_mix_elbow.compile(loss = 'binary_crossentropy', optimizer = 'adam', metrics = ['accuracy'])"
   ]
  },
  {
   "cell_type": "code",
   "execution_count": 44,
   "metadata": {},
   "outputs": [
    {
     "name": "stdout",
     "output_type": "stream",
     "text": [
      "Epoch 1/10\n",
      "1754/1754 [==============================] - 231s 132ms/step - loss: 0.6776 - acc: 0.6089\n",
      "Epoch 2/10\n",
      "1754/1754 [==============================] - 230s 131ms/step - loss: 0.6670 - acc: 0.6214\n",
      "Epoch 3/10\n",
      "1754/1754 [==============================] - 229s 130ms/step - loss: 0.6632 - acc: 0.6237\n",
      "Epoch 4/10\n",
      "1754/1754 [==============================] - 228s 130ms/step - loss: 0.6632 - acc: 0.6300\n",
      "Epoch 5/10\n",
      "1754/1754 [==============================] - 953s 543ms/step - loss: 0.6519 - acc: 0.6425\n",
      "Epoch 6/10\n",
      "1754/1754 [==============================] - 214s 122ms/step - loss: 0.6510 - acc: 0.6363\n",
      "Epoch 7/10\n",
      "1754/1754 [==============================] - 213s 121ms/step - loss: 0.6412 - acc: 0.6579\n",
      "Epoch 8/10\n",
      "1754/1754 [==============================] - 226s 129ms/step - loss: 0.6523 - acc: 0.6380\n",
      "Epoch 9/10\n",
      "1754/1754 [==============================] - 229s 130ms/step - loss: 0.6406 - acc: 0.6505\n",
      "Epoch 10/10\n",
      "1754/1754 [==============================] - 229s 131ms/step - loss: 0.6350 - acc: 0.6602\n"
     ]
    },
    {
     "data": {
      "text/plain": [
       "<keras.callbacks.History at 0x22913f4c9e8>"
      ]
     },
     "execution_count": 44,
     "metadata": {},
     "output_type": "execute_result"
    }
   ],
   "source": [
    "model_mix_elbow.fit(x_train_elbow,y_train_elbow,batch_size = 100, epochs = 10)"
   ]
  },
  {
   "cell_type": "code",
   "execution_count": 45,
   "metadata": {},
   "outputs": [
    {
     "name": "stdout",
     "output_type": "stream",
     "text": [
      "158/158 [==============================] - 6s 36ms/step\n"
     ]
    },
    {
     "data": {
      "text/plain": [
       "[0.5958477368083182, 0.6962025316455697]"
      ]
     },
     "execution_count": 45,
     "metadata": {},
     "output_type": "execute_result"
    }
   ],
   "source": [
    "model_mix_elbow.evaluate(x_test_elbow,y_test_elbow)"
   ]
  },
  {
   "cell_type": "markdown",
   "metadata": {},
   "source": [
    "-----------------------------------------------------"
   ]
  },
  {
   "cell_type": "markdown",
   "metadata": {},
   "source": [
    "## 5. HAND"
   ]
  },
  {
   "cell_type": "markdown",
   "metadata": {},
   "source": [
    "### CNN"
   ]
  },
  {
   "cell_type": "code",
   "execution_count": 46,
   "metadata": {},
   "outputs": [],
   "source": [
    "x_train_hand,y_train_hand = img_cnn(train_paths,'HAND',32)\n",
    "x_test_hand,y_test_hand = img_cnn(valid_paths,'HAND',32)"
   ]
  },
  {
   "cell_type": "code",
   "execution_count": 47,
   "metadata": {},
   "outputs": [
    {
     "name": "stdout",
     "output_type": "stream",
     "text": [
      "_________________________________________________________________\n",
      "Layer (type)                 Output Shape              Param #   \n",
      "=================================================================\n",
      "conv2d_19 (Conv2D)           (None, 62, 62, 64)        1792      \n",
      "_________________________________________________________________\n",
      "max_pooling2d_17 (MaxPooling (None, 31, 31, 64)        0         \n",
      "_________________________________________________________________\n",
      "conv2d_20 (Conv2D)           (None, 29, 29, 32)        18464     \n",
      "_________________________________________________________________\n",
      "max_pooling2d_18 (MaxPooling (None, 14, 14, 32)        0         \n",
      "_________________________________________________________________\n",
      "conv2d_21 (Conv2D)           (None, 12, 12, 16)        4624      \n",
      "_________________________________________________________________\n",
      "max_pooling2d_19 (MaxPooling (None, 6, 6, 16)          0         \n",
      "_________________________________________________________________\n",
      "flatten_7 (Flatten)          (None, 576)               0         \n",
      "_________________________________________________________________\n",
      "dense_10 (Dense)             (None, 1000)              577000    \n",
      "_________________________________________________________________\n",
      "activation_10 (Activation)   (None, 1000)              0         \n",
      "_________________________________________________________________\n",
      "dense_11 (Dense)             (None, 1)                 1001      \n",
      "_________________________________________________________________\n",
      "activation_11 (Activation)   (None, 1)                 0         \n",
      "=================================================================\n",
      "Total params: 602,881\n",
      "Trainable params: 602,881\n",
      "Non-trainable params: 0\n",
      "_________________________________________________________________\n"
     ]
    }
   ],
   "source": [
    "model_cnn_hand = Sequential()\n",
    "model_cnn_hand.add(Conv2D(64,(3,3), input_shape=[32,32,3]))\n",
    "model_cnn_hand.add(MaxPooling2D(pool_size=(2,2)))\n",
    "\n",
    "model_cnn_hand.add(Conv2D(32,(3,3)))\n",
    "model_cnn_hand.add(MaxPooling2D(pool_size=(2,2)))\n",
    "\n",
    "model_cnn_hand.add(Conv2D(16,(3,3)))\n",
    "model_cnn_hand.add(MaxPooling2D(pool_size=(2,2)))\n",
    "\n",
    "model_cnn_hand.add(Flatten())\n",
    "model_cnn_hand.add(Dense(1000))\n",
    "model_cnn_hand.add(Activation('relu'))\n",
    "model_cnn_hand.add(Dense(1))\n",
    "model_cnn_hand.add(Activation('sigmoid'))\n",
    "\n",
    "model_cnn_hand.summary()"
   ]
  },
  {
   "cell_type": "code",
   "execution_count": 48,
   "metadata": {},
   "outputs": [],
   "source": [
    "model_cnn_hand.compile(loss = 'binary_crossentropy', optimizer = 'adam', metrics = ['accuracy'])"
   ]
  },
  {
   "cell_type": "code",
   "execution_count": 49,
   "metadata": {},
   "outputs": [
    {
     "name": "stdout",
     "output_type": "stream",
     "text": [
      "Epoch 1/10\n",
      "5543/5543 [==============================] - 36s 6ms/step - loss: 0.5880 - acc: 0.7323\n",
      "Epoch 2/10\n",
      "5543/5543 [==============================] - 36s 6ms/step - loss: 0.5760 - acc: 0.7314\n",
      "Epoch 3/10\n",
      "5543/5543 [==============================] - 36s 6ms/step - loss: 0.5655 - acc: 0.7328\n",
      "Epoch 4/10\n",
      "5543/5543 [==============================] - 36s 6ms/step - loss: 0.5544 - acc: 0.7353\n",
      "Epoch 5/10\n",
      "5543/5543 [==============================] - 36s 6ms/step - loss: 0.5400 - acc: 0.7380\n",
      "Epoch 6/10\n",
      "5543/5543 [==============================] - 36s 6ms/step - loss: 0.5197 - acc: 0.7453\n",
      "Epoch 7/10\n",
      "5543/5543 [==============================] - 36s 6ms/step - loss: 0.4933 - acc: 0.7671\n",
      "Epoch 8/10\n",
      "5543/5543 [==============================] - 36s 6ms/step - loss: 0.4673 - acc: 0.7786\n",
      "Epoch 9/10\n",
      "5543/5543 [==============================] - 36s 7ms/step - loss: 0.4153 - acc: 0.8089\n",
      "Epoch 10/10\n",
      "5543/5543 [==============================] - 36s 7ms/step - loss: 0.3517 - acc: 0.8454\n"
     ]
    },
    {
     "data": {
      "text/plain": [
       "<keras.callbacks.History at 0x22916043278>"
      ]
     },
     "execution_count": 49,
     "metadata": {},
     "output_type": "execute_result"
    }
   ],
   "source": [
    "model_cnn_hand.fit(x_train_hand,y_train_hand,batch_size = 100, epochs = 10)"
   ]
  },
  {
   "cell_type": "code",
   "execution_count": 50,
   "metadata": {},
   "outputs": [
    {
     "name": "stdout",
     "output_type": "stream",
     "text": [
      "460/460 [==============================] - 1s 3ms/step\n"
     ]
    },
    {
     "data": {
      "text/plain": [
       "[0.882223036237385, 0.5695652168730031]"
      ]
     },
     "execution_count": 50,
     "metadata": {},
     "output_type": "execute_result"
    }
   ],
   "source": [
    "model_cnn_hand.evaluate(x_test_hand,y_test_hand)"
   ]
  },
  {
   "cell_type": "markdown",
   "metadata": {},
   "source": [
    "### CNN + RNN (Time Distributed)"
   ]
  },
  {
   "cell_type": "code",
   "execution_count": 19,
   "metadata": {},
   "outputs": [],
   "source": [
    "x_train_hand, y_train_hand, x_test_hand, y_test_hand = img_rnn('HAND',32)"
   ]
  },
  {
   "cell_type": "code",
   "execution_count": 20,
   "metadata": {},
   "outputs": [
    {
     "name": "stdout",
     "output_type": "stream",
     "text": [
      "_________________________________________________________________\n",
      "Layer (type)                 Output Shape              Param #   \n",
      "=================================================================\n",
      "time_distributed_1 (TimeDist (None, 5, 30, 30, 256)    7168      \n",
      "_________________________________________________________________\n",
      "time_distributed_2 (TimeDist (None, 5, 15, 15, 256)    0         \n",
      "_________________________________________________________________\n",
      "time_distributed_3 (TimeDist (None, 5, 13, 13, 256)    590080    \n",
      "_________________________________________________________________\n",
      "time_distributed_4 (TimeDist (None, 5, 11, 11, 128)    295040    \n",
      "_________________________________________________________________\n",
      "time_distributed_5 (TimeDist (None, 5, 9, 9, 56)       64568     \n",
      "_________________________________________________________________\n",
      "time_distributed_6 (TimeDist (None, 5, 4, 4, 56)       0         \n",
      "_________________________________________________________________\n",
      "time_distributed_7 (TimeDist (None, 5, 2, 2, 256)      129280    \n",
      "_________________________________________________________________\n",
      "time_distributed_8 (TimeDist (None, 5, 1, 1, 256)      0         \n",
      "_________________________________________________________________\n",
      "time_distributed_9 (TimeDist (None, 5, 256)            0         \n",
      "_________________________________________________________________\n",
      "lstm_1 (LSTM)                (None, 1000)              5028000   \n",
      "_________________________________________________________________\n",
      "dense_1 (Dense)              (None, 1)                 1001      \n",
      "_________________________________________________________________\n",
      "activation_1 (Activation)    (None, 1)                 0         \n",
      "=================================================================\n",
      "Total params: 6,115,137\n",
      "Trainable params: 6,115,137\n",
      "Non-trainable params: 0\n",
      "_________________________________________________________________\n"
     ]
    }
   ],
   "source": [
    "#CNN\n",
    "model_mix_hand = Sequential()\n",
    "model_mix_hand.add(TimeDistributed(Conv2D(256,(3,3),activation='relu'),input_shape=(x_train_hand.shape[1],\n",
    "                                                                                        x_train_hand.shape[2],\n",
    "                                                                                        x_train_hand.shape[3],\n",
    "                                                                                        x_train_hand.shape[4])))\n",
    "model_mix_hand.add(TimeDistributed(MaxPooling2D(pool_size=(2,2))))\n",
    "\n",
    "model_mix_hand.add(TimeDistributed(Conv2D(256,(3,3),activation='relu')))\n",
    "model_mix_hand.add(TimeDistributed(Conv2D(128,(3,3),activation='relu')))\n",
    "model_mix_hand.add(TimeDistributed(Conv2D(56,(3,3),activation='relu')))\n",
    "model_mix_hand.add(TimeDistributed(MaxPooling2D(pool_size=(2,2))))\n",
    "\n",
    "model_mix_hand.add(TimeDistributed(Conv2D(256,(3,3),activation='relu')))\n",
    "model_mix_hand.add(TimeDistributed(MaxPooling2D(pool_size=(2,2))))\n",
    "\n",
    "model_mix_hand.add(TimeDistributed(Flatten()))\n",
    "\n",
    "#RNN\n",
    "model_mix_hand.add(LSTM(1000,return_sequences=False))\n",
    "\n",
    "model_mix_hand.add(Dense(1))\n",
    "model_mix_hand.add(Activation('sigmoid'))\n",
    "\n",
    "model_mix_hand.summary()"
   ]
  },
  {
   "cell_type": "code",
   "execution_count": 21,
   "metadata": {},
   "outputs": [],
   "source": [
    "model_mix_hand.compile(loss = 'binary_crossentropy', optimizer = 'adam', metrics = ['accuracy'])"
   ]
  },
  {
   "cell_type": "code",
   "execution_count": 22,
   "metadata": {
    "scrolled": true
   },
   "outputs": [
    {
     "name": "stdout",
     "output_type": "stream",
     "text": [
      "Epoch 1/10\n",
      "2018/2018 [==============================] - 225s 111ms/step - loss: 0.6251 - acc: 0.7418\n",
      "Epoch 2/10\n",
      "2018/2018 [==============================] - 214s 106ms/step - loss: 0.5764 - acc: 0.7418\n",
      "Epoch 3/10\n",
      "2018/2018 [==============================] - 217s 108ms/step - loss: 0.5724 - acc: 0.7418\n",
      "Epoch 4/10\n",
      "2018/2018 [==============================] - 217s 108ms/step - loss: 0.5658 - acc: 0.7418\n",
      "Epoch 5/10\n",
      "2018/2018 [==============================] - 214s 106ms/step - loss: 0.5644 - acc: 0.7418\n",
      "Epoch 6/10\n",
      "2018/2018 [==============================] - 211s 105ms/step - loss: 0.5599 - acc: 0.7418\n",
      "Epoch 7/10\n",
      "2018/2018 [==============================] - 213s 106ms/step - loss: 0.5542 - acc: 0.7418\n",
      "Epoch 8/10\n",
      "2018/2018 [==============================] - 213s 105ms/step - loss: 0.5573 - acc: 0.7433\n",
      "Epoch 9/10\n",
      "2018/2018 [==============================] - 220s 109ms/step - loss: 0.5546 - acc: 0.7423\n",
      "Epoch 10/10\n",
      "2018/2018 [==============================] - 221s 109ms/step - loss: 0.5490 - acc: 0.7418\n"
     ]
    },
    {
     "data": {
      "text/plain": [
       "<keras.callbacks.History at 0x1df7c41f160>"
      ]
     },
     "execution_count": 22,
     "metadata": {},
     "output_type": "execute_result"
    }
   ],
   "source": [
    "model_mix_hand.fit(x_train_hand,y_train_hand,batch_size = 100, epochs = 10)"
   ]
  },
  {
   "cell_type": "code",
   "execution_count": 23,
   "metadata": {},
   "outputs": [
    {
     "name": "stdout",
     "output_type": "stream",
     "text": [
      "167/167 [==============================] - 5s 33ms/step\n"
     ]
    },
    {
     "data": {
      "text/plain": [
       "[0.7639048422525029, 0.6047904191616766]"
      ]
     },
     "execution_count": 23,
     "metadata": {},
     "output_type": "execute_result"
    }
   ],
   "source": [
    "model_mix_hand.evaluate(x_test_hand,y_test_hand)"
   ]
  },
  {
   "cell_type": "markdown",
   "metadata": {},
   "source": [
    "## 6. HUMERUS"
   ]
  },
  {
   "cell_type": "markdown",
   "metadata": {},
   "source": [
    "### CNN"
   ]
  },
  {
   "cell_type": "code",
   "execution_count": 56,
   "metadata": {},
   "outputs": [],
   "source": [
    "x_train_humerus,y_train_humerus = img_cnn(train_paths,'HUMERUS',64)\n",
    "x_test_humerus,y_test_humerus = img_cnn(valid_paths,'HUMERUS',64)"
   ]
  },
  {
   "cell_type": "code",
   "execution_count": 57,
   "metadata": {},
   "outputs": [
    {
     "name": "stdout",
     "output_type": "stream",
     "text": [
      "_________________________________________________________________\n",
      "Layer (type)                 Output Shape              Param #   \n",
      "=================================================================\n",
      "conv2d_27 (Conv2D)           (None, 62, 62, 64)        1792      \n",
      "_________________________________________________________________\n",
      "max_pooling2d_23 (MaxPooling (None, 31, 31, 64)        0         \n",
      "_________________________________________________________________\n",
      "conv2d_28 (Conv2D)           (None, 29, 29, 32)        18464     \n",
      "_________________________________________________________________\n",
      "max_pooling2d_24 (MaxPooling (None, 14, 14, 32)        0         \n",
      "_________________________________________________________________\n",
      "conv2d_29 (Conv2D)           (None, 12, 12, 16)        4624      \n",
      "_________________________________________________________________\n",
      "max_pooling2d_25 (MaxPooling (None, 6, 6, 16)          0         \n",
      "_________________________________________________________________\n",
      "flatten_9 (Flatten)          (None, 576)               0         \n",
      "_________________________________________________________________\n",
      "dense_13 (Dense)             (None, 1000)              577000    \n",
      "_________________________________________________________________\n",
      "activation_13 (Activation)   (None, 1000)              0         \n",
      "_________________________________________________________________\n",
      "dense_14 (Dense)             (None, 1)                 1001      \n",
      "_________________________________________________________________\n",
      "activation_14 (Activation)   (None, 1)                 0         \n",
      "=================================================================\n",
      "Total params: 602,881\n",
      "Trainable params: 602,881\n",
      "Non-trainable params: 0\n",
      "_________________________________________________________________\n"
     ]
    }
   ],
   "source": [
    "model_cnn_humerus = Sequential()\n",
    "model_cnn_humerus.add(Conv2D(64,(3,3), input_shape=[64,64,3]))\n",
    "model_cnn_humerus.add(MaxPooling2D(pool_size=(2,2)))\n",
    "\n",
    "model_cnn_humerus.add(Conv2D(32,(3,3)))\n",
    "model_cnn_humerus.add(MaxPooling2D(pool_size=(2,2)))\n",
    "\n",
    "model_cnn_humerus.add(Conv2D(16,(3,3)))\n",
    "model_cnn_humerus.add(MaxPooling2D(pool_size=(2,2)))\n",
    "\n",
    "model_cnn_humerus.add(Flatten())\n",
    "model_cnn_humerus.add(Dense(1000))\n",
    "model_cnn_humerus.add(Activation('relu'))\n",
    "model_cnn_humerus.add(Dense(1))\n",
    "model_cnn_humerus.add(Activation('sigmoid'))\n",
    "\n",
    "model_cnn_humerus.summary()"
   ]
  },
  {
   "cell_type": "code",
   "execution_count": 58,
   "metadata": {},
   "outputs": [],
   "source": [
    "model_cnn_humerus.compile(loss = 'binary_crossentropy', optimizer = 'adam', metrics = ['accuracy'])"
   ]
  },
  {
   "cell_type": "code",
   "execution_count": 59,
   "metadata": {},
   "outputs": [
    {
     "name": "stdout",
     "output_type": "stream",
     "text": [
      "Epoch 1/10\n",
      "1272/1272 [==============================] - 9s 7ms/step - loss: 0.6967 - acc: 0.5244\n",
      "Epoch 2/10\n",
      "1272/1272 [==============================] - 8s 6ms/step - loss: 0.6712 - acc: 0.5983\n",
      "Epoch 3/10\n",
      "1272/1272 [==============================] - 8s 7ms/step - loss: 0.6438 - acc: 0.6305\n",
      "Epoch 4/10\n",
      "1272/1272 [==============================] - 8s 7ms/step - loss: 0.6372 - acc: 0.6439\n",
      "Epoch 5/10\n",
      "1272/1272 [==============================] - 8s 7ms/step - loss: 0.6137 - acc: 0.6478\n",
      "Epoch 6/10\n",
      "1272/1272 [==============================] - 9s 7ms/step - loss: 0.5877 - acc: 0.6903\n",
      "Epoch 7/10\n",
      "1272/1272 [==============================] - 8s 7ms/step - loss: 0.5378 - acc: 0.7296\n",
      "Epoch 8/10\n",
      "1272/1272 [==============================] - 9s 7ms/step - loss: 0.4985 - acc: 0.7547\n",
      "Epoch 9/10\n",
      "1272/1272 [==============================] - 9s 7ms/step - loss: 0.4638 - acc: 0.7618\n",
      "Epoch 10/10\n",
      "1272/1272 [==============================] - 9s 7ms/step - loss: 0.4618 - acc: 0.7783\n"
     ]
    },
    {
     "data": {
      "text/plain": [
       "<keras.callbacks.History at 0x2291f753198>"
      ]
     },
     "execution_count": 59,
     "metadata": {},
     "output_type": "execute_result"
    }
   ],
   "source": [
    "model_cnn_humerus.fit(x_train_humerus,y_train_humerus,batch_size = 100, epochs = 10)"
   ]
  },
  {
   "cell_type": "code",
   "execution_count": 60,
   "metadata": {},
   "outputs": [
    {
     "name": "stdout",
     "output_type": "stream",
     "text": [
      "288/288 [==============================] - 1s 4ms/step\n"
     ]
    },
    {
     "data": {
      "text/plain": [
       "[0.6979264186488258, 0.6423611111111112]"
      ]
     },
     "execution_count": 60,
     "metadata": {},
     "output_type": "execute_result"
    }
   ],
   "source": [
    "model_cnn_humerus.evaluate(x_test_humerus,y_test_humerus)"
   ]
  },
  {
   "cell_type": "markdown",
   "metadata": {},
   "source": [
    "### CNN + RNN (Time Distributed)"
   ]
  },
  {
   "cell_type": "code",
   "execution_count": 61,
   "metadata": {},
   "outputs": [],
   "source": [
    "x_train_humerus, y_train_humerus, x_test_humerus, y_test_humerus = img_rnn('HUMERUS',32)"
   ]
  },
  {
   "cell_type": "code",
   "execution_count": 62,
   "metadata": {},
   "outputs": [
    {
     "name": "stdout",
     "output_type": "stream",
     "text": [
      "_________________________________________________________________\n",
      "Layer (type)                 Output Shape              Param #   \n",
      "=================================================================\n",
      "time_distributed_29 (TimeDis (None, 6, 30, 30, 64)     1792      \n",
      "_________________________________________________________________\n",
      "time_distributed_30 (TimeDis (None, 6, 15, 15, 64)     0         \n",
      "_________________________________________________________________\n",
      "time_distributed_31 (TimeDis (None, 6, 13, 13, 32)     18464     \n",
      "_________________________________________________________________\n",
      "time_distributed_32 (TimeDis (None, 6, 6, 6, 32)       0         \n",
      "_________________________________________________________________\n",
      "time_distributed_33 (TimeDis (None, 6, 1152)           0         \n",
      "_________________________________________________________________\n",
      "lstm_5 (LSTM)                (None, 100)               501200    \n",
      "_________________________________________________________________\n",
      "dense_15 (Dense)             (None, 1)                 101       \n",
      "_________________________________________________________________\n",
      "activation_15 (Activation)   (None, 1)                 0         \n",
      "=================================================================\n",
      "Total params: 521,557\n",
      "Trainable params: 521,557\n",
      "Non-trainable params: 0\n",
      "_________________________________________________________________\n"
     ]
    }
   ],
   "source": [
    "#CNN\n",
    "model_mix_humerus = Sequential()\n",
    "model_mix_humerus.add(TimeDistributed(Conv2D(64,(3,3),activation='relu'),input_shape=(x_train_humerus.shape[1],\n",
    "                                                                                      x_train_humerus.shape[2],\n",
    "                                                                                      x_train_humerus.shape[3],\n",
    "                                                                                      x_train_humerus.shape[4])))\n",
    "model_mix_humerus.add(TimeDistributed(MaxPooling2D(pool_size=(2,2))))\n",
    "\n",
    "model_mix_humerus.add(TimeDistributed(Conv2D(32,(3,3),activation='relu')))\n",
    "model_mix_humerus.add(TimeDistributed(Conv2D(128,(3,3),activation='relu')))\n",
    "model_mix_humerus.add(TimeDistributed(Conv2D(56,(3,3),activation='relu')))\n",
    "model_mix_humerus.add(TimeDistributed(MaxPooling2D(pool_size=(2,2))))\n",
    "\n",
    "model_mix_humerus.add(TimeDistributed(Conv2D(256,(3,3),activation='relu')))\n",
    "model_mix_humerus.add(TimeDistributed(MaxPooling2D(pool_size=(2,2))))\n",
    "\n",
    "\n",
    "model_mix_humerus.add(TimeDistributed(Flatten()))\n",
    "\n",
    "#RNN\n",
    "model_mix_humerus.add(LSTM(100,return_sequences=False))\n",
    "\n",
    "model_mix_humerus.add(Dense(1))\n",
    "model_mix_humerus.add(Activation('sigmoid'))\n",
    "\n",
    "model_mix_humerus.summary()"
   ]
  },
  {
   "cell_type": "code",
   "execution_count": 63,
   "metadata": {},
   "outputs": [],
   "source": [
    "model_mix_humerus.compile(loss = 'binary_crossentropy', optimizer = 'adam', metrics = ['accuracy'])"
   ]
  },
  {
   "cell_type": "code",
   "execution_count": 64,
   "metadata": {},
   "outputs": [
    {
     "name": "stdout",
     "output_type": "stream",
     "text": [
      "Epoch 1/10\n",
      "592/592 [==============================] - 7s 12ms/step - loss: 0.6946 - acc: 0.5574\n",
      "Epoch 2/10\n",
      "592/592 [==============================] - 6s 9ms/step - loss: 0.6898 - acc: 0.5642\n",
      "Epoch 3/10\n",
      "592/592 [==============================] - 6s 10ms/step - loss: 0.6874 - acc: 0.5845\n",
      "Epoch 4/10\n",
      "592/592 [==============================] - 6s 10ms/step - loss: 0.6817 - acc: 0.5608\n",
      "Epoch 5/10\n",
      "592/592 [==============================] - 6s 9ms/step - loss: 0.6714 - acc: 0.5878\n",
      "Epoch 6/10\n",
      "592/592 [==============================] - 6s 10ms/step - loss: 0.6571 - acc: 0.6115\n",
      "Epoch 7/10\n",
      "592/592 [==============================] - 6s 10ms/step - loss: 0.6541 - acc: 0.6385\n",
      "Epoch 8/10\n",
      "592/592 [==============================] - 5s 9ms/step - loss: 0.6354 - acc: 0.6402\n",
      "Epoch 9/10\n",
      "592/592 [==============================] - 6s 10ms/step - loss: 0.6006 - acc: 0.6824\n",
      "Epoch 10/10\n",
      "592/592 [==============================] - 5s 9ms/step - loss: 0.5783 - acc: 0.6807\n"
     ]
    },
    {
     "data": {
      "text/plain": [
       "<keras.callbacks.History at 0x2291c9078d0>"
      ]
     },
     "execution_count": 64,
     "metadata": {},
     "output_type": "execute_result"
    }
   ],
   "source": [
    "model_mix_humerus.fit(x_train_humerus,y_train_humerus,batch_size = 100, epochs = 10)"
   ]
  },
  {
   "cell_type": "code",
   "execution_count": 65,
   "metadata": {},
   "outputs": [
    {
     "name": "stdout",
     "output_type": "stream",
     "text": [
      "135/135 [==============================] - 1s 7ms/step\n"
     ]
    },
    {
     "data": {
      "text/plain": [
       "[0.6975569367408753, 0.548148148589664]"
      ]
     },
     "execution_count": 65,
     "metadata": {},
     "output_type": "execute_result"
    }
   ],
   "source": [
    "model_mix_humerus.evaluate(x_test_humerus,y_test_humerus)"
   ]
  },
  {
   "cell_type": "markdown",
   "metadata": {},
   "source": [
    "## 7. Forearm"
   ]
  },
  {
   "cell_type": "markdown",
   "metadata": {},
   "source": [
    "### CNN"
   ]
  },
  {
   "cell_type": "code",
   "execution_count": 66,
   "metadata": {},
   "outputs": [],
   "source": [
    "x_train_forearm,y_train_forearm = img_cnn(train_paths,'FOREARM',64)\n",
    "x_test_forearm,y_test_forearm = img_cnn(valid_paths,'FOREARM',64)"
   ]
  },
  {
   "cell_type": "code",
   "execution_count": 67,
   "metadata": {},
   "outputs": [
    {
     "name": "stdout",
     "output_type": "stream",
     "text": [
      "_________________________________________________________________\n",
      "Layer (type)                 Output Shape              Param #   \n",
      "=================================================================\n",
      "conv2d_32 (Conv2D)           (None, 62, 62, 64)        1792      \n",
      "_________________________________________________________________\n",
      "max_pooling2d_28 (MaxPooling (None, 31, 31, 64)        0         \n",
      "_________________________________________________________________\n",
      "conv2d_33 (Conv2D)           (None, 29, 29, 32)        18464     \n",
      "_________________________________________________________________\n",
      "max_pooling2d_29 (MaxPooling (None, 14, 14, 32)        0         \n",
      "_________________________________________________________________\n",
      "conv2d_34 (Conv2D)           (None, 12, 12, 16)        4624      \n",
      "_________________________________________________________________\n",
      "max_pooling2d_30 (MaxPooling (None, 6, 6, 16)          0         \n",
      "_________________________________________________________________\n",
      "flatten_11 (Flatten)         (None, 576)               0         \n",
      "_________________________________________________________________\n",
      "dense_16 (Dense)             (None, 1000)              577000    \n",
      "_________________________________________________________________\n",
      "activation_16 (Activation)   (None, 1000)              0         \n",
      "_________________________________________________________________\n",
      "dense_17 (Dense)             (None, 1)                 1001      \n",
      "_________________________________________________________________\n",
      "activation_17 (Activation)   (None, 1)                 0         \n",
      "=================================================================\n",
      "Total params: 602,881\n",
      "Trainable params: 602,881\n",
      "Non-trainable params: 0\n",
      "_________________________________________________________________\n"
     ]
    }
   ],
   "source": [
    "model_cnn_forearm = Sequential()\n",
    "model_cnn_forearm.add(Conv2D(64,(3,3), input_shape=[64,64,3]))\n",
    "model_cnn_forearm.add(MaxPooling2D(pool_size=(2,2)))\n",
    "\n",
    "model_cnn_forearm.add(Conv2D(32,(3,3)))\n",
    "model_cnn_forearm.add(MaxPooling2D(pool_size=(2,2)))\n",
    "\n",
    "model_cnn_forearm.add(Conv2D(16,(3,3)))\n",
    "model_cnn_forearm.add(MaxPooling2D(pool_size=(2,2)))\n",
    "\n",
    "model_cnn_forearm.add(Flatten())\n",
    "model_cnn_forearm.add(Dense(1000))\n",
    "model_cnn_forearm.add(Activation('relu'))\n",
    "model_cnn_forearm.add(Dense(1))\n",
    "model_cnn_forearm.add(Activation('sigmoid'))\n",
    "\n",
    "model_cnn_forearm.summary()"
   ]
  },
  {
   "cell_type": "code",
   "execution_count": 68,
   "metadata": {},
   "outputs": [],
   "source": [
    "model_cnn_forearm.compile(loss = 'binary_crossentropy', optimizer = 'adam', metrics = ['accuracy'])"
   ]
  },
  {
   "cell_type": "code",
   "execution_count": 69,
   "metadata": {},
   "outputs": [
    {
     "name": "stdout",
     "output_type": "stream",
     "text": [
      "Epoch 1/10\n",
      "1825/1825 [==============================] - 13s 7ms/step - loss: 0.6609 - acc: 0.6290\n",
      "Epoch 2/10\n",
      "1825/1825 [==============================] - 13s 7ms/step - loss: 0.6409 - acc: 0.6438\n",
      "Epoch 3/10\n",
      "1825/1825 [==============================] - 12s 7ms/step - loss: 0.6298 - acc: 0.6542\n",
      "Epoch 4/10\n",
      "1825/1825 [==============================] - 13s 7ms/step - loss: 0.6053 - acc: 0.6816\n",
      "Epoch 5/10\n",
      "1825/1825 [==============================] - 12s 7ms/step - loss: 0.5786 - acc: 0.7123\n",
      "Epoch 6/10\n",
      "1825/1825 [==============================] - 12s 7ms/step - loss: 0.5623 - acc: 0.7118\n",
      "Epoch 7/10\n",
      "1825/1825 [==============================] - 12s 7ms/step - loss: 0.5508 - acc: 0.7282\n",
      "Epoch 8/10\n",
      "1825/1825 [==============================] - 13s 7ms/step - loss: 0.5197 - acc: 0.7441\n",
      "Epoch 9/10\n",
      "1825/1825 [==============================] - 14s 8ms/step - loss: 0.5187 - acc: 0.7501\n",
      "Epoch 10/10\n",
      "1825/1825 [==============================] - 12s 7ms/step - loss: 0.4907 - acc: 0.7710\n"
     ]
    },
    {
     "data": {
      "text/plain": [
       "<keras.callbacks.History at 0x229166d5860>"
      ]
     },
     "execution_count": 69,
     "metadata": {},
     "output_type": "execute_result"
    }
   ],
   "source": [
    "model_cnn_forearm.fit(x_train_forearm,y_train_forearm,batch_size = 100, epochs = 10)"
   ]
  },
  {
   "cell_type": "code",
   "execution_count": 70,
   "metadata": {},
   "outputs": [
    {
     "name": "stdout",
     "output_type": "stream",
     "text": [
      "301/301 [==============================] - 1s 4ms/step\n"
     ]
    },
    {
     "data": {
      "text/plain": [
       "[0.6905128825146495, 0.6245847182020396]"
      ]
     },
     "execution_count": 70,
     "metadata": {},
     "output_type": "execute_result"
    }
   ],
   "source": [
    "model_cnn_forearm.evaluate(x_test_forearm,y_test_forearm)"
   ]
  },
  {
   "cell_type": "markdown",
   "metadata": {},
   "source": [
    "### CNN + RNN (Time Distributed)"
   ]
  },
  {
   "cell_type": "code",
   "execution_count": 42,
   "metadata": {},
   "outputs": [],
   "source": [
    "x_train_forearm, y_train_forearm, x_test_forearm, y_test_forearm = img_rnn('FOREARM',32)"
   ]
  },
  {
   "cell_type": "code",
   "execution_count": 43,
   "metadata": {},
   "outputs": [
    {
     "name": "stdout",
     "output_type": "stream",
     "text": [
      "_________________________________________________________________\n",
      "Layer (type)                 Output Shape              Param #   \n",
      "=================================================================\n",
      "time_distributed_22 (TimeDis (None, 10, 30, 30, 256)   7168      \n",
      "_________________________________________________________________\n",
      "time_distributed_23 (TimeDis (None, 10, 15, 15, 256)   0         \n",
      "_________________________________________________________________\n",
      "time_distributed_24 (TimeDis (None, 10, 13, 13, 256)   590080    \n",
      "_________________________________________________________________\n",
      "time_distributed_25 (TimeDis (None, 10, 11, 11, 128)   295040    \n",
      "_________________________________________________________________\n",
      "time_distributed_26 (TimeDis (None, 10, 9, 9, 56)      64568     \n",
      "_________________________________________________________________\n",
      "time_distributed_27 (TimeDis (None, 10, 4, 4, 56)      0         \n",
      "_________________________________________________________________\n",
      "time_distributed_28 (TimeDis (None, 10, 896)           0         \n",
      "_________________________________________________________________\n",
      "lstm_4 (LSTM)                (None, 1000)              7588000   \n",
      "_________________________________________________________________\n",
      "dense_8 (Dense)              (None, 1)                 1001      \n",
      "_________________________________________________________________\n",
      "activation_8 (Activation)    (None, 1)                 0         \n",
      "=================================================================\n",
      "Total params: 8,545,857\n",
      "Trainable params: 8,545,857\n",
      "Non-trainable params: 0\n",
      "_________________________________________________________________\n"
     ]
    }
   ],
   "source": [
    "#CNN\n",
    "model_mix_forearm = Sequential()\n",
    "model_mix_forearm.add(TimeDistributed(Conv2D(256,(3,3),activation='relu'),input_shape=(x_train_forearm.shape[1],\n",
    "                                                                                       x_train_forearm.shape[2],\n",
    "                                                                                       x_train_forearm.shape[3],\n",
    "                                                                                       x_train_forearm.shape[4])))\n",
    "model_mix_forearm.add(TimeDistributed(MaxPooling2D(pool_size=(2,2))))\n",
    "\n",
    "model_mix_forearm.add(TimeDistributed(Conv2D(256,(3,3),activation='relu')))\n",
    "model_mix_forearm.add(TimeDistributed(Conv2D(128,(3,3),activation='relu')))\n",
    "model_mix_forearm.add(TimeDistributed(Conv2D(56,(3,3),activation='relu')))\n",
    "model_mix_forearm.add(TimeDistributed(MaxPooling2D(pool_size=(2,2))))\n",
    "\n",
    "#model_mix_forearm.add(TimeDistributed(Conv2D(256,(3,3),activation='relu')))\n",
    "#model_mix_forearm.add(TimeDistributed(MaxPooling2D(pool_size=(2,2))))\n",
    "\n",
    "model_mix_forearm.add(TimeDistributed(Flatten()))\n",
    "\n",
    "#RNN\n",
    "model_mix_forearm.add(LSTM(1000,return_sequences=False))\n",
    "\n",
    "model_mix_forearm.add(Dense(1))\n",
    "model_mix_forearm.add(Activation('sigmoid'))\n",
    "\n",
    "model_mix_forearm.summary()"
   ]
  },
  {
   "cell_type": "code",
   "execution_count": 44,
   "metadata": {},
   "outputs": [],
   "source": [
    "model_mix_forearm.compile(loss = 'binary_crossentropy', optimizer = 'adam', metrics = ['accuracy'])"
   ]
  },
  {
   "cell_type": "code",
   "execution_count": 46,
   "metadata": {},
   "outputs": [
    {
     "name": "stdout",
     "output_type": "stream",
     "text": [
      "Epoch 1/10\n",
      "877/877 [==============================] - 192s 219ms/step - loss: 0.6601 - acc: 0.6727\n",
      "Epoch 2/10\n",
      "877/877 [==============================] - 186s 212ms/step - loss: 0.6599 - acc: 0.6727\n",
      "Epoch 3/10\n",
      "877/877 [==============================] - 257s 293ms/step - loss: 0.6396 - acc: 0.6727\n",
      "Epoch 4/10\n",
      "877/877 [==============================] - 189s 216ms/step - loss: 0.6344 - acc: 0.6727\n",
      "Epoch 5/10\n",
      "877/877 [==============================] - 184s 210ms/step - loss: 0.6330 - acc: 0.6727\n",
      "Epoch 6/10\n",
      "877/877 [==============================] - 185s 211ms/step - loss: 0.6311 - acc: 0.6727\n",
      "Epoch 7/10\n",
      "877/877 [==============================] - 186s 212ms/step - loss: 0.6318 - acc: 0.6705\n",
      "Epoch 8/10\n",
      "877/877 [==============================] - 186s 213ms/step - loss: 0.6184 - acc: 0.6773\n",
      "Epoch 9/10\n",
      "877/877 [==============================] - 4876s 6s/step - loss: 0.6091 - acc: 0.6910\n",
      "Epoch 10/10\n",
      "877/877 [==============================] - 189s 215ms/step - loss: 0.6109 - acc: 0.6944\n"
     ]
    },
    {
     "data": {
      "text/plain": [
       "<keras.callbacks.History at 0x223be973940>"
      ]
     },
     "execution_count": 46,
     "metadata": {},
     "output_type": "execute_result"
    }
   ],
   "source": [
    "model_mix_forearm.fit(x_train_forearm,y_train_forearm,batch_size = 100, epochs = 10)"
   ]
  },
  {
   "cell_type": "code",
   "execution_count": 48,
   "metadata": {},
   "outputs": [
    {
     "name": "stdout",
     "output_type": "stream",
     "text": [
      "133/133 [==============================] - 7s 54ms/step\n"
     ]
    },
    {
     "data": {
      "text/plain": [
       "[0.7247540229245236, 0.5263157894736842]"
      ]
     },
     "execution_count": 48,
     "metadata": {},
     "output_type": "execute_result"
    }
   ],
   "source": [
    "model_mix_forearm.evaluate(x_test_forearm,y_test_forearm)"
   ]
  },
  {
   "cell_type": "markdown",
   "metadata": {},
   "source": [
    "## 8. WRIST"
   ]
  },
  {
   "cell_type": "markdown",
   "metadata": {},
   "source": [
    "### CNN"
   ]
  },
  {
   "cell_type": "code",
   "execution_count": 40,
   "metadata": {},
   "outputs": [],
   "source": [
    "x_train_wrist,y_train_wrist = img_cnn(train_paths,'WRIST',32)\n",
    "x_test_wrist,y_test_wrist = img_cnn(valid_paths,'WRIST',32)"
   ]
  },
  {
   "cell_type": "code",
   "execution_count": 41,
   "metadata": {},
   "outputs": [
    {
     "name": "stdout",
     "output_type": "stream",
     "text": [
      "_________________________________________________________________\n",
      "Layer (type)                 Output Shape              Param #   \n",
      "=================================================================\n",
      "conv2d_19 (Conv2D)           (None, 30, 30, 64)        1792      \n",
      "_________________________________________________________________\n",
      "max_pooling2d_13 (MaxPooling (None, 15, 15, 64)        0         \n",
      "_________________________________________________________________\n",
      "conv2d_20 (Conv2D)           (None, 13, 13, 32)        18464     \n",
      "_________________________________________________________________\n",
      "max_pooling2d_14 (MaxPooling (None, 6, 6, 32)          0         \n",
      "_________________________________________________________________\n",
      "conv2d_21 (Conv2D)           (None, 4, 4, 16)          4624      \n",
      "_________________________________________________________________\n",
      "max_pooling2d_15 (MaxPooling (None, 2, 2, 16)          0         \n",
      "_________________________________________________________________\n",
      "flatten_5 (Flatten)          (None, 64)                0         \n",
      "_________________________________________________________________\n",
      "dense_6 (Dense)              (None, 1000)              65000     \n",
      "_________________________________________________________________\n",
      "activation_6 (Activation)    (None, 1000)              0         \n",
      "_________________________________________________________________\n",
      "dense_7 (Dense)              (None, 1)                 1001      \n",
      "_________________________________________________________________\n",
      "activation_7 (Activation)    (None, 1)                 0         \n",
      "=================================================================\n",
      "Total params: 90,881\n",
      "Trainable params: 90,881\n",
      "Non-trainable params: 0\n",
      "_________________________________________________________________\n"
     ]
    }
   ],
   "source": [
    "model_cnn_wrist = Sequential()\n",
    "model_cnn_wrist.add(Conv2D(64,(3,3), input_shape=[32,32,3]))\n",
    "model_cnn_wrist.add(MaxPooling2D(pool_size=(2,2)))\n",
    "\n",
    "model_cnn_wrist.add(Conv2D(32,(3,3)))\n",
    "model_cnn_wrist.add(MaxPooling2D(pool_size=(2,2)))\n",
    "\n",
    "model_cnn_wrist.add(Conv2D(16,(3,3)))\n",
    "model_cnn_wrist.add(MaxPooling2D(pool_size=(2,2)))\n",
    "\n",
    "model_cnn_wrist.add(Flatten())\n",
    "model_cnn_wrist.add(Dense(1000))\n",
    "model_cnn_wrist.add(Activation('relu'))\n",
    "model_cnn_wrist.add(Dense(1))\n",
    "model_cnn_wrist.add(Activation('sigmoid'))\n",
    "\n",
    "model_cnn_wrist.summary()"
   ]
  },
  {
   "cell_type": "code",
   "execution_count": 42,
   "metadata": {},
   "outputs": [],
   "source": [
    "model_cnn_wrist.compile(loss = 'binary_crossentropy', optimizer = 'adam', metrics = ['accuracy'])"
   ]
  },
  {
   "cell_type": "code",
   "execution_count": 43,
   "metadata": {},
   "outputs": [
    {
     "name": "stdout",
     "output_type": "stream",
     "text": [
      "Epoch 1/10\n",
      "9752/9752 [==============================] - 14s 1ms/step - loss: 0.6514 - acc: 0.6111\n",
      "Epoch 2/10\n",
      "9752/9752 [==============================] - 13s 1ms/step - loss: 0.6157 - acc: 0.6588\n",
      "Epoch 3/10\n",
      "9752/9752 [==============================] - 14s 1ms/step - loss: 0.5821 - acc: 0.6937\n",
      "Epoch 4/10\n",
      "9752/9752 [==============================] - 14s 1ms/step - loss: 0.5527 - acc: 0.7242\n",
      "Epoch 5/10\n",
      "9752/9752 [==============================] - 15s 2ms/step - loss: 0.5231 - acc: 0.7395\n",
      "Epoch 6/10\n",
      "9752/9752 [==============================] - 15s 2ms/step - loss: 0.5017 - acc: 0.7582\n",
      "Epoch 7/10\n",
      "9752/9752 [==============================] - 15s 2ms/step - loss: 0.4918 - acc: 0.7594\n",
      "Epoch 8/10\n",
      "9752/9752 [==============================] - 15s 2ms/step - loss: 0.4670 - acc: 0.7759\n",
      "Epoch 9/10\n",
      "9752/9752 [==============================] - 15s 2ms/step - loss: 0.4467 - acc: 0.7937\n",
      "Epoch 10/10\n",
      "9752/9752 [==============================] - 15s 2ms/step - loss: 0.4362 - acc: 0.7990\n"
     ]
    },
    {
     "data": {
      "text/plain": [
       "<keras.callbacks.History at 0x1df1faf1da0>"
      ]
     },
     "execution_count": 43,
     "metadata": {},
     "output_type": "execute_result"
    }
   ],
   "source": [
    "model_cnn_wrist.fit(x_train_wrist,y_train_wrist,batch_size = 100, epochs = 10)"
   ]
  },
  {
   "cell_type": "code",
   "execution_count": 44,
   "metadata": {},
   "outputs": [
    {
     "name": "stdout",
     "output_type": "stream",
     "text": [
      "658/658 [==============================] - 1s 1ms/step\n"
     ]
    },
    {
     "data": {
      "text/plain": [
       "[0.6180097511474122, 0.7006079034602388]"
      ]
     },
     "execution_count": 44,
     "metadata": {},
     "output_type": "execute_result"
    }
   ],
   "source": [
    "model_cnn_wrist.evaluate(x_test_wrist,y_test_wrist)"
   ]
  },
  {
   "cell_type": "markdown",
   "metadata": {},
   "source": [
    "### CNN + RNN (Time Distributed)"
   ]
  },
  {
   "cell_type": "code",
   "execution_count": 30,
   "metadata": {},
   "outputs": [],
   "source": [
    "x_train_wrist, y_train_wrist, x_test_wrist, y_test_wrist = img_rnn('WRIST',32)"
   ]
  },
  {
   "cell_type": "code",
   "execution_count": 34,
   "metadata": {},
   "outputs": [
    {
     "name": "stdout",
     "output_type": "stream",
     "text": [
      "_________________________________________________________________\n",
      "Layer (type)                 Output Shape              Param #   \n",
      "=================================================================\n",
      "time_distributed_19 (TimeDis (None, 8, 30, 30, 256)    7168      \n",
      "_________________________________________________________________\n",
      "time_distributed_20 (TimeDis (None, 8, 15, 15, 256)    0         \n",
      "_________________________________________________________________\n",
      "time_distributed_21 (TimeDis (None, 8, 13, 13, 256)    590080    \n",
      "_________________________________________________________________\n",
      "time_distributed_22 (TimeDis (None, 8, 11, 11, 128)    295040    \n",
      "_________________________________________________________________\n",
      "time_distributed_23 (TimeDis (None, 8, 9, 9, 56)       64568     \n",
      "_________________________________________________________________\n",
      "time_distributed_24 (TimeDis (None, 8, 4, 4, 56)       0         \n",
      "_________________________________________________________________\n",
      "time_distributed_25 (TimeDis (None, 8, 2, 2, 256)      129280    \n",
      "_________________________________________________________________\n",
      "time_distributed_26 (TimeDis (None, 8, 1, 1, 256)      0         \n",
      "_________________________________________________________________\n",
      "time_distributed_27 (TimeDis (None, 8, 256)            0         \n",
      "_________________________________________________________________\n",
      "lstm_3 (LSTM)                (None, 1000)              5028000   \n",
      "_________________________________________________________________\n",
      "dense_5 (Dense)              (None, 1)                 1001      \n",
      "_________________________________________________________________\n",
      "activation_5 (Activation)    (None, 1)                 0         \n",
      "=================================================================\n",
      "Total params: 6,115,137\n",
      "Trainable params: 6,115,137\n",
      "Non-trainable params: 0\n",
      "_________________________________________________________________\n"
     ]
    }
   ],
   "source": [
    "#CNN\n",
    "model_mix_wrist = Sequential()\n",
    "model_mix_wrist.add(TimeDistributed(Conv2D(256,(3,3),activation='relu'),input_shape=(x_train_wrist.shape[1],\n",
    "                                                                                        x_train_wrist.shape[2],\n",
    "                                                                                        x_train_wrist.shape[3],\n",
    "                                                                                        x_train_wrist.shape[4])))\n",
    "model_mix_wrist.add(TimeDistributed(MaxPooling2D(pool_size=(2,2))))\n",
    "\n",
    "model_mix_wrist.add(TimeDistributed(Conv2D(256,(3,3),activation='relu')))\n",
    "model_mix_wrist.add(TimeDistributed(Conv2D(128,(3,3),activation='relu')))\n",
    "model_mix_wrist.add(TimeDistributed(Conv2D(56,(3,3),activation='relu')))\n",
    "model_mix_wrist.add(TimeDistributed(MaxPooling2D(pool_size=(2,2))))\n",
    "\n",
    "model_mix_wrist.add(TimeDistributed(Conv2D(256,(3,3),activation='relu')))\n",
    "model_mix_wrist.add(TimeDistributed(MaxPooling2D(pool_size=(2,2))))\n",
    "\n",
    "model_mix_wrist.add(TimeDistributed(Flatten()))\n",
    "\n",
    "#RNN\n",
    "model_mix_wrist.add(LSTM(1000,return_sequences=False))\n",
    "\n",
    "model_mix_wrist.add(Dense(1))\n",
    "model_mix_wrist.add(Activation('sigmoid'))\n",
    "\n",
    "model_mix_wrist.summary()"
   ]
  },
  {
   "cell_type": "code",
   "execution_count": 36,
   "metadata": {},
   "outputs": [],
   "source": [
    "model_mix_wrist.compile(loss = 'binary_crossentropy', optimizer = 'adam', metrics = ['accuracy'])"
   ]
  },
  {
   "cell_type": "code",
   "execution_count": 37,
   "metadata": {},
   "outputs": [
    {
     "name": "stdout",
     "output_type": "stream",
     "text": [
      "Epoch 1/10\n",
      "3460/3460 [==============================] - 591s 171ms/step - loss: 0.6726 - acc: 0.6104\n",
      "Epoch 2/10\n",
      "3460/3460 [==============================] - 451s 130ms/step - loss: 0.6600 - acc: 0.6107\n",
      "Epoch 3/10\n",
      "3460/3460 [==============================] - 543s 157ms/step - loss: 0.6420 - acc: 0.6231\n",
      "Epoch 4/10\n",
      "3460/3460 [==============================] - 547s 158ms/step - loss: 0.6187 - acc: 0.6402\n",
      "Epoch 5/10\n",
      "3460/3460 [==============================] - 680s 197ms/step - loss: 0.6062 - acc: 0.6659\n",
      "Epoch 6/10\n",
      "3460/3460 [==============================] - 598s 173ms/step - loss: 0.5921 - acc: 0.6679\n",
      "Epoch 7/10\n",
      "3460/3460 [==============================] - 527s 152ms/step - loss: 0.5869 - acc: 0.6737\n",
      "Epoch 8/10\n",
      "3460/3460 [==============================] - 588s 170ms/step - loss: 0.5615 - acc: 0.7139\n",
      "Epoch 9/10\n",
      "3460/3460 [==============================] - 571s 165ms/step - loss: 0.5302 - acc: 0.7382\n",
      "Epoch 10/10\n",
      "3460/3460 [==============================] - 511s 148ms/step - loss: 0.5638 - acc: 0.7133\n"
     ]
    },
    {
     "data": {
      "text/plain": [
       "<keras.callbacks.History at 0x1df1f433d68>"
      ]
     },
     "execution_count": 37,
     "metadata": {},
     "output_type": "execute_result"
    }
   ],
   "source": [
    "model_mix_wrist.fit(x_train_wrist,y_train_wrist,batch_size = 100, epochs = 10)"
   ]
  },
  {
   "cell_type": "code",
   "execution_count": 39,
   "metadata": {},
   "outputs": [
    {
     "name": "stdout",
     "output_type": "stream",
     "text": [
      "237/237 [==============================] - 8s 33ms/step\n"
     ]
    },
    {
     "data": {
      "text/plain": [
       "[0.5752480022514923, 0.6962025329030516]"
      ]
     },
     "execution_count": 39,
     "metadata": {},
     "output_type": "execute_result"
    }
   ],
   "source": [
    "model_mix_wrist.evaluate(x_test_wrist,y_test_wrist)"
   ]
  }
 ],
 "metadata": {
  "kernelspec": {
   "display_name": "Python 3",
   "language": "python",
   "name": "python3"
  },
  "language_info": {
   "codemirror_mode": {
    "name": "ipython",
    "version": 3
   },
   "file_extension": ".py",
   "mimetype": "text/x-python",
   "name": "python",
   "nbconvert_exporter": "python",
   "pygments_lexer": "ipython3",
   "version": "3.6.8"
  }
 },
 "nbformat": 4,
 "nbformat_minor": 2
}
